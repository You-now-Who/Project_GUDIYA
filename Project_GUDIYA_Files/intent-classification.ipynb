{
  "cells": [
    {
      "cell_type": "code",
      "execution_count": 159,
      "metadata": {},
      "outputs": [
        {
          "name": "stdout",
          "output_type": "stream",
          "text": [
            "Requirement already satisfied: h5py==2.10.0 in /anaconda/envs/azureml_py38/lib/python3.8/site-packages (2.10.0)\n",
            "Requirement already satisfied: numpy>=1.7 in /anaconda/envs/azureml_py38/lib/python3.8/site-packages (from h5py==2.10.0) (1.21.6)\n",
            "Requirement already satisfied: six in /anaconda/envs/azureml_py38/lib/python3.8/site-packages (from h5py==2.10.0) (1.16.0)\n"
          ]
        }
      ],
      "source": [
        "!pip install h5py==2.10.0"
      ]
    },
    {
      "cell_type": "code",
      "execution_count": 160,
      "metadata": {
        "execution": {
          "iopub.execute_input": "2021-08-04T06:19:17.555959Z",
          "iopub.status.busy": "2021-08-04T06:19:17.555566Z",
          "iopub.status.idle": "2021-08-04T06:19:17.562433Z",
          "shell.execute_reply": "2021-08-04T06:19:17.561385Z",
          "shell.execute_reply.started": "2021-08-04T06:19:17.555924Z"
        },
        "id": "a_WypuUXi92e",
        "trusted": true
      },
      "outputs": [],
      "source": [
        "import numpy as np\n",
        "import pandas as pd\n",
        "from nltk.corpus import stopwords\n",
        "from nltk.tokenize import word_tokenize\n",
        "from nltk.stem.lancaster import LancasterStemmer\n",
        "import nltk\n",
        "import re\n",
        "from sklearn.preprocessing import OneHotEncoder\n",
        "import matplotlib.pyplot as plt\n",
        "from tensorflow.keras.preprocessing.text import Tokenizer\n",
        "from tensorflow.keras.preprocessing.sequence import pad_sequences\n",
        "from tensorflow.keras.utils import to_categorical\n",
        "from tensorflow.keras.models import Sequential, load_model\n",
        "from tensorflow.keras.layers import Dense, LSTM, Bidirectional, Embedding, Dropout\n",
        "from tensorflow.keras.callbacks import ModelCheckpoint\n"
      ]
    },
    {
      "cell_type": "code",
      "execution_count": 161,
      "metadata": {
        "execution": {
          "iopub.execute_input": "2021-08-04T06:19:17.564964Z",
          "iopub.status.busy": "2021-08-04T06:19:17.564507Z",
          "iopub.status.idle": "2021-08-04T06:19:17.574045Z",
          "shell.execute_reply": "2021-08-04T06:19:17.573099Z",
          "shell.execute_reply.started": "2021-08-04T06:19:17.564922Z"
        },
        "id": "LE6wywJrN2ih",
        "trusted": true
      },
      "outputs": [],
      "source": [
        "def load_dataset(filename):\n",
        "  df = pd.read_csv(filename, encoding = \"latin1\", names = [\"Sentence\", \"Intent\"])\n",
        "  df.drop(index=df.index[0], axis=0, inplace=True)\n",
        "  print(df.head())\n",
        "  intent = df[\"Intent\"]\n",
        "  unique_intent = list(set(intent))\n",
        "  sentences = list(df[\"Sentence\"])\n",
        "  \n",
        "  return (intent, unique_intent, sentences)\n",
        "  \n"
      ]
    },
    {
      "cell_type": "code",
      "execution_count": 162,
      "metadata": {},
      "outputs": [
        {
          "data": {
            "text/html": [
              "<div>\n",
              "<style scoped>\n",
              "    .dataframe tbody tr th:only-of-type {\n",
              "        vertical-align: middle;\n",
              "    }\n",
              "\n",
              "    .dataframe tbody tr th {\n",
              "        vertical-align: top;\n",
              "    }\n",
              "\n",
              "    .dataframe thead th {\n",
              "        text-align: right;\n",
              "    }\n",
              "</style>\n",
              "<table border=\"1\" class=\"dataframe\">\n",
              "  <thead>\n",
              "    <tr style=\"text-align: right;\">\n",
              "      <th></th>\n",
              "      <th>Text</th>\n",
              "      <th>Intents</th>\n",
              "    </tr>\n",
              "  </thead>\n",
              "  <tbody>\n",
              "    <tr>\n",
              "      <th>0</th>\n",
              "      <td>hi</td>\n",
              "      <td>GREETINGS</td>\n",
              "    </tr>\n",
              "    <tr>\n",
              "      <th>1</th>\n",
              "      <td>hello</td>\n",
              "      <td>GREETINGS</td>\n",
              "    </tr>\n",
              "    <tr>\n",
              "      <th>2</th>\n",
              "      <td>hey</td>\n",
              "      <td>GREETINGS</td>\n",
              "    </tr>\n",
              "    <tr>\n",
              "      <th>3</th>\n",
              "      <td>helloo</td>\n",
              "      <td>GREETINGS</td>\n",
              "    </tr>\n",
              "    <tr>\n",
              "      <th>4</th>\n",
              "      <td>hellooo</td>\n",
              "      <td>GREETINGS</td>\n",
              "    </tr>\n",
              "    <tr>\n",
              "      <th>...</th>\n",
              "      <td>...</td>\n",
              "      <td>...</td>\n",
              "    </tr>\n",
              "    <tr>\n",
              "      <th>78</th>\n",
              "      <td>Famous woman</td>\n",
              "      <td>CODE_WOMAN</td>\n",
              "    </tr>\n",
              "    <tr>\n",
              "      <th>79</th>\n",
              "      <td>Role models</td>\n",
              "      <td>CODE_WOMAN</td>\n",
              "    </tr>\n",
              "    <tr>\n",
              "      <th>80</th>\n",
              "      <td>list some iconic women in STEM who have had a ...</td>\n",
              "      <td>CODE_WOMAN</td>\n",
              "    </tr>\n",
              "    <tr>\n",
              "      <th>81</th>\n",
              "      <td>Can you name some famous female scientists in ...</td>\n",
              "      <td>CODE_WOMAN</td>\n",
              "    </tr>\n",
              "    <tr>\n",
              "      <th>82</th>\n",
              "      <td>Pretty Woman</td>\n",
              "      <td>CODE_WOMAN</td>\n",
              "    </tr>\n",
              "  </tbody>\n",
              "</table>\n",
              "<p>83 rows × 2 columns</p>\n",
              "</div>"
            ],
            "text/plain": [
              "                                                 Text     Intents\n",
              "0                                                  hi   GREETINGS\n",
              "1                                               hello   GREETINGS\n",
              "2                                                 hey   GREETINGS\n",
              "3                                              helloo   GREETINGS\n",
              "4                                             hellooo   GREETINGS\n",
              "..                                                ...         ...\n",
              "78                                       Famous woman  CODE_WOMAN\n",
              "79                                        Role models  CODE_WOMAN\n",
              "80  list some iconic women in STEM who have had a ...  CODE_WOMAN\n",
              "81  Can you name some famous female scientists in ...  CODE_WOMAN\n",
              "82                                       Pretty Woman  CODE_WOMAN\n",
              "\n",
              "[83 rows x 2 columns]"
            ]
          },
          "execution_count": 162,
          "metadata": {},
          "output_type": "execute_result"
        }
      ],
      "source": [
        "df = pd.read_csv('data/train.csv')\n",
        "df.head(100)"
      ]
    },
    {
      "cell_type": "code",
      "execution_count": 163,
      "metadata": {
        "execution": {
          "iopub.execute_input": "2021-08-04T06:19:17.576589Z",
          "iopub.status.busy": "2021-08-04T06:19:17.576106Z",
          "iopub.status.idle": "2021-08-04T06:19:17.598427Z",
          "shell.execute_reply": "2021-08-04T06:19:17.597551Z",
          "shell.execute_reply.started": "2021-08-04T06:19:17.576548Z"
        },
        "id": "tF0FQA7gjOCX",
        "outputId": "ab2a7e0d-4350-4c0b-db22-f8076d35be40",
        "trusted": true
      },
      "outputs": [
        {
          "name": "stdout",
          "output_type": "stream",
          "text": [
            "   Sentence     Intent\n",
            "1        hi  GREETINGS\n",
            "2     hello  GREETINGS\n",
            "3       hey  GREETINGS\n",
            "4    helloo  GREETINGS\n",
            "5   hellooo  GREETINGS\n"
          ]
        }
      ],
      "source": [
        "intent, unique_intent, sentences = load_dataset(\"data/train.csv\")"
      ]
    },
    {
      "cell_type": "code",
      "execution_count": 164,
      "metadata": {
        "execution": {
          "iopub.execute_input": "2021-08-04T06:19:17.909177Z",
          "iopub.status.busy": "2021-08-04T06:19:17.908789Z",
          "iopub.status.idle": "2021-08-04T06:19:17.914269Z",
          "shell.execute_reply": "2021-08-04T06:19:17.913271Z",
          "shell.execute_reply.started": "2021-08-04T06:19:17.909127Z"
        },
        "id": "O8LLUZlokg0S",
        "outputId": "b6d4f953-4736-4a74-8e6d-037f76c3b000",
        "trusted": true
      },
      "outputs": [
        {
          "name": "stdout",
          "output_type": "stream",
          "text": [
            "['hi', ' hello', ' hey', ' helloo', ' hellooo']\n"
          ]
        }
      ],
      "source": [
        "print(sentences[:5])"
      ]
    },
    {
      "cell_type": "code",
      "execution_count": 165,
      "metadata": {
        "execution": {
          "iopub.execute_input": "2021-08-04T06:19:17.916819Z",
          "iopub.status.busy": "2021-08-04T06:19:17.916149Z",
          "iopub.status.idle": "2021-08-04T06:19:17.92808Z",
          "shell.execute_reply": "2021-08-04T06:19:17.926988Z",
          "shell.execute_reply.started": "2021-08-04T06:19:17.91678Z"
        },
        "id": "MhrziINPGHbW",
        "outputId": "1ff8027f-b579-4c9c-8513-fec1cf05b00f",
        "trusted": true
      },
      "outputs": [
        {
          "name": "stderr",
          "output_type": "stream",
          "text": [
            "[nltk_data] Downloading package stopwords to\n",
            "[nltk_data]     /home/azureuser/nltk_data...\n",
            "[nltk_data]   Package stopwords is already up-to-date!\n",
            "[nltk_data] Downloading package punkt to /home/azureuser/nltk_data...\n",
            "[nltk_data]   Package punkt is already up-to-date!\n"
          ]
        },
        {
          "data": {
            "text/plain": [
              "True"
            ]
          },
          "execution_count": 165,
          "metadata": {},
          "output_type": "execute_result"
        }
      ],
      "source": [
        "import os\n",
        "nltk.download(\"stopwords\")\n",
        "nltk.download(\"punkt\")"
      ]
    },
    {
      "cell_type": "code",
      "execution_count": 166,
      "metadata": {
        "execution": {
          "iopub.execute_input": "2021-08-04T06:19:17.930947Z",
          "iopub.status.busy": "2021-08-04T06:19:17.930357Z",
          "iopub.status.idle": "2021-08-04T06:19:17.935084Z",
          "shell.execute_reply": "2021-08-04T06:19:17.933868Z",
          "shell.execute_reply.started": "2021-08-04T06:19:17.93091Z"
        },
        "id": "OmNLu2YSXePb",
        "trusted": true
      },
      "outputs": [],
      "source": [
        "#define stemmer\n",
        "stemmer = LancasterStemmer()"
      ]
    },
    {
      "cell_type": "code",
      "execution_count": 167,
      "metadata": {
        "execution": {
          "iopub.execute_input": "2021-08-04T06:19:17.937738Z",
          "iopub.status.busy": "2021-08-04T06:19:17.936885Z",
          "iopub.status.idle": "2021-08-04T06:19:17.947647Z",
          "shell.execute_reply": "2021-08-04T06:19:17.946818Z",
          "shell.execute_reply.started": "2021-08-04T06:19:17.937681Z"
        },
        "id": "j-7q3iG5PKYI",
        "trusted": true
      },
      "outputs": [],
      "source": [
        "def cleaning(sentences):\n",
        "  words = []\n",
        "  for s in sentences:\n",
        "    clean = re.sub(r'[^ a-z A-Z 0-9]', \" \", s)\n",
        "    w = word_tokenize(clean)\n",
        "    #stemming\n",
        "    words.append([i.lower() for i in w])\n",
        "    \n",
        "  return words  "
      ]
    },
    {
      "cell_type": "code",
      "execution_count": 168,
      "metadata": {
        "execution": {
          "iopub.execute_input": "2021-08-04T06:19:18.234836Z",
          "iopub.status.busy": "2021-08-04T06:19:18.2345Z",
          "iopub.status.idle": "2021-08-04T06:19:18.763215Z",
          "shell.execute_reply": "2021-08-04T06:19:18.762155Z",
          "shell.execute_reply.started": "2021-08-04T06:19:18.234803Z"
        },
        "id": "p1j2GJgDG6qj",
        "outputId": "96de5c50-88f5-492f-a114-ef661eff5423",
        "trusted": true
      },
      "outputs": [
        {
          "name": "stdout",
          "output_type": "stream",
          "text": [
            "83\n",
            "[['hi'], ['hello']]\n"
          ]
        }
      ],
      "source": [
        "cleaned_words = cleaning(sentences)\n",
        "print(len(cleaned_words))\n",
        "print(cleaned_words[:2])  \n",
        "  \n"
      ]
    },
    {
      "cell_type": "code",
      "execution_count": 169,
      "metadata": {
        "execution": {
          "iopub.execute_input": "2021-08-04T06:19:18.765323Z",
          "iopub.status.busy": "2021-08-04T06:19:18.764975Z",
          "iopub.status.idle": "2021-08-04T06:19:18.770092Z",
          "shell.execute_reply": "2021-08-04T06:19:18.769055Z",
          "shell.execute_reply.started": "2021-08-04T06:19:18.765285Z"
        },
        "id": "SJCQ_YhBJW7t",
        "trusted": true
      },
      "outputs": [],
      "source": [
        "def create_tokenizer(words, filters = '!\"#$%&()*+,-./:;<=>?@[\\]^_`{|}~'):\n",
        "  token = Tokenizer(filters = filters)\n",
        "  token.fit_on_texts(words)\n",
        "  return token"
      ]
    },
    {
      "cell_type": "code",
      "execution_count": 170,
      "metadata": {
        "execution": {
          "iopub.execute_input": "2021-08-04T06:19:18.7725Z",
          "iopub.status.busy": "2021-08-04T06:19:18.772125Z",
          "iopub.status.idle": "2021-08-04T06:19:18.780975Z",
          "shell.execute_reply": "2021-08-04T06:19:18.780118Z",
          "shell.execute_reply.started": "2021-08-04T06:19:18.772461Z"
        },
        "id": "QJhdIJC5Q3Q6",
        "trusted": true
      },
      "outputs": [],
      "source": [
        "def max_length(words):\n",
        "  return(len(max(words, key = len)))\n",
        "  "
      ]
    },
    {
      "cell_type": "code",
      "execution_count": 197,
      "metadata": {
        "execution": {
          "iopub.execute_input": "2021-08-04T06:19:18.783123Z",
          "iopub.status.busy": "2021-08-04T06:19:18.782731Z",
          "iopub.status.idle": "2021-08-04T06:19:18.823192Z",
          "shell.execute_reply": "2021-08-04T06:19:18.822164Z",
          "shell.execute_reply.started": "2021-08-04T06:19:18.783074Z"
        },
        "id": "JWjxPGsZZJNX",
        "outputId": "8362e977-2660-4a5a-b823-b01e828c1175",
        "trusted": true
      },
      "outputs": [
        {
          "name": "stdout",
          "output_type": "stream",
          "text": [
            "Vocab Size = 176 and Maximum length = 1000\n"
          ]
        }
      ],
      "source": [
        "word_tokenizer = create_tokenizer(cleaned_words)\n",
        "vocab_size = len(word_tokenizer.word_index) + 1\n",
        "# max_length = max_length(cleaned_words)\n",
        "max_length = 1000\n",
        "\n",
        "print(\"Vocab Size = %d and Maximum length = %d\" % (vocab_size, max_length))"
      ]
    },
    {
      "cell_type": "code",
      "execution_count": 198,
      "metadata": {},
      "outputs": [],
      "source": [
        "import pickle\n",
        "\n",
        "# saving\n",
        "with open('tokenizer.pickle', 'wb') as handle:\n",
        "    pickle.dump(word_tokenizer, handle, protocol=pickle.HIGHEST_PROTOCOL)"
      ]
    },
    {
      "cell_type": "code",
      "execution_count": 199,
      "metadata": {
        "execution": {
          "iopub.execute_input": "2021-08-04T06:19:18.824974Z",
          "iopub.status.busy": "2021-08-04T06:19:18.824573Z",
          "iopub.status.idle": "2021-08-04T06:19:18.830277Z",
          "shell.execute_reply": "2021-08-04T06:19:18.829021Z",
          "shell.execute_reply.started": "2021-08-04T06:19:18.82493Z"
        },
        "id": "D0TXu2xsR8jq",
        "trusted": true
      },
      "outputs": [],
      "source": [
        "def encoding_doc(token, words):\n",
        "  return(token.texts_to_sequences(words))"
      ]
    },
    {
      "cell_type": "code",
      "execution_count": 200,
      "metadata": {
        "execution": {
          "iopub.execute_input": "2021-08-04T06:19:18.832426Z",
          "iopub.status.busy": "2021-08-04T06:19:18.831955Z",
          "iopub.status.idle": "2021-08-04T06:19:18.857907Z",
          "shell.execute_reply": "2021-08-04T06:19:18.857015Z",
          "shell.execute_reply.started": "2021-08-04T06:19:18.83232Z"
        },
        "id": "dE92Hk1Va--H",
        "trusted": true
      },
      "outputs": [],
      "source": [
        "encoded_doc = encoding_doc(word_tokenizer, cleaned_words)"
      ]
    },
    {
      "cell_type": "code",
      "execution_count": 201,
      "metadata": {
        "execution": {
          "iopub.execute_input": "2021-08-04T06:19:18.860276Z",
          "iopub.status.busy": "2021-08-04T06:19:18.859612Z",
          "iopub.status.idle": "2021-08-04T06:19:18.867894Z",
          "shell.execute_reply": "2021-08-04T06:19:18.866963Z",
          "shell.execute_reply.started": "2021-08-04T06:19:18.860215Z"
        },
        "id": "fyOzLEboc4LZ",
        "trusted": true
      },
      "outputs": [],
      "source": [
        "def padding_doc(encoded_doc, max_length):\n",
        "  return(pad_sequences(encoded_doc, maxlen = max_length, padding = \"post\"))"
      ]
    },
    {
      "cell_type": "code",
      "execution_count": 202,
      "metadata": {
        "execution": {
          "iopub.execute_input": "2021-08-04T06:19:18.871549Z",
          "iopub.status.busy": "2021-08-04T06:19:18.870727Z",
          "iopub.status.idle": "2021-08-04T06:19:18.914477Z",
          "shell.execute_reply": "2021-08-04T06:19:18.913488Z",
          "shell.execute_reply.started": "2021-08-04T06:19:18.871503Z"
        },
        "id": "WdejoJrlc-tc",
        "trusted": true
      },
      "outputs": [],
      "source": [
        "padded_doc = padding_doc(encoded_doc, max_length)"
      ]
    },
    {
      "cell_type": "code",
      "execution_count": 203,
      "metadata": {
        "execution": {
          "iopub.execute_input": "2021-08-04T06:19:18.916423Z",
          "iopub.status.busy": "2021-08-04T06:19:18.916052Z",
          "iopub.status.idle": "2021-08-04T06:19:18.923234Z",
          "shell.execute_reply": "2021-08-04T06:19:18.922071Z",
          "shell.execute_reply.started": "2021-08-04T06:19:18.916384Z"
        },
        "id": "gDgTCS2KdI2p",
        "outputId": "c6c55783-3ea8-4160-ce93-85f21be51a42",
        "trusted": true
      },
      "outputs": [
        {
          "data": {
            "text/plain": [
              "array([[58,  0,  0, ...,  0,  0,  0],\n",
              "       [59,  0,  0, ...,  0,  0,  0],\n",
              "       [60,  0,  0, ...,  0,  0,  0],\n",
              "       [61,  0,  0, ...,  0,  0,  0],\n",
              "       [62,  0,  0, ...,  0,  0,  0]], dtype=int32)"
            ]
          },
          "execution_count": 203,
          "metadata": {},
          "output_type": "execute_result"
        }
      ],
      "source": [
        "padded_doc[:5]"
      ]
    },
    {
      "cell_type": "code",
      "execution_count": 204,
      "metadata": {
        "execution": {
          "iopub.execute_input": "2021-08-04T06:19:18.925308Z",
          "iopub.status.busy": "2021-08-04T06:19:18.924912Z",
          "iopub.status.idle": "2021-08-04T06:19:18.934593Z",
          "shell.execute_reply": "2021-08-04T06:19:18.932496Z",
          "shell.execute_reply.started": "2021-08-04T06:19:18.925268Z"
        },
        "id": "3eaSIDi0dNf1",
        "outputId": "16d34a62-fbba-4f8a-99aa-30dda9478901",
        "trusted": true
      },
      "outputs": [
        {
          "name": "stdout",
          "output_type": "stream",
          "text": [
            "Shape of padded docs =  (83, 1000)\n"
          ]
        }
      ],
      "source": [
        "print(\"Shape of padded docs = \",padded_doc.shape)"
      ]
    },
    {
      "cell_type": "code",
      "execution_count": 205,
      "metadata": {
        "execution": {
          "iopub.execute_input": "2021-08-04T06:19:18.942829Z",
          "iopub.status.busy": "2021-08-04T06:19:18.942515Z",
          "iopub.status.idle": "2021-08-04T06:19:18.947481Z",
          "shell.execute_reply": "2021-08-04T06:19:18.946478Z",
          "shell.execute_reply.started": "2021-08-04T06:19:18.9428Z"
        },
        "id": "X0rXzenSpgFR",
        "trusted": true
      },
      "outputs": [],
      "source": [
        "#tokenizer with filter changed\n",
        "output_tokenizer = create_tokenizer(unique_intent, filters = '!\"#$%&()*+,-/:;<=>?@[\\]^`{|}~')\n"
      ]
    },
    {
      "cell_type": "code",
      "execution_count": 206,
      "metadata": {
        "execution": {
          "iopub.execute_input": "2021-08-04T06:19:18.949393Z",
          "iopub.status.busy": "2021-08-04T06:19:18.948958Z",
          "iopub.status.idle": "2021-08-04T06:19:18.960129Z",
          "shell.execute_reply": "2021-08-04T06:19:18.959106Z",
          "shell.execute_reply.started": "2021-08-04T06:19:18.949341Z"
        },
        "id": "yNHQtkszskxr",
        "outputId": "6f863925-b6dc-4804-fbcb-cfdc166d26f4",
        "trusted": true
      },
      "outputs": [
        {
          "data": {
            "text/plain": [
              "{'greetings': 1, 'code_woman': 2, 'conversation': 3, 'code_career': 4}"
            ]
          },
          "execution_count": 206,
          "metadata": {},
          "output_type": "execute_result"
        }
      ],
      "source": [
        "output_tokenizer.word_index"
      ]
    },
    {
      "cell_type": "code",
      "execution_count": 207,
      "metadata": {
        "execution": {
          "iopub.execute_input": "2021-08-04T06:19:18.963057Z",
          "iopub.status.busy": "2021-08-04T06:19:18.96242Z",
          "iopub.status.idle": "2021-08-04T06:19:19.002002Z",
          "shell.execute_reply": "2021-08-04T06:19:19.001139Z",
          "shell.execute_reply.started": "2021-08-04T06:19:18.963016Z"
        },
        "id": "7OOx9qdBto1-",
        "trusted": true
      },
      "outputs": [],
      "source": [
        "encoded_output = encoding_doc(output_tokenizer, intent)"
      ]
    },
    {
      "cell_type": "code",
      "execution_count": 208,
      "metadata": {
        "execution": {
          "iopub.execute_input": "2021-08-04T06:19:19.003815Z",
          "iopub.status.busy": "2021-08-04T06:19:19.003434Z",
          "iopub.status.idle": "2021-08-04T06:19:19.010417Z",
          "shell.execute_reply": "2021-08-04T06:19:19.009232Z",
          "shell.execute_reply.started": "2021-08-04T06:19:19.003776Z"
        },
        "trusted": true
      },
      "outputs": [],
      "source": [
        "x=[]\n",
        "for i in encoded_output:\n",
        "    x.append(i[0])\n",
        "encoded_output=x"
      ]
    },
    {
      "cell_type": "code",
      "execution_count": 209,
      "metadata": {
        "execution": {
          "iopub.execute_input": "2021-08-04T06:19:19.012607Z",
          "iopub.status.busy": "2021-08-04T06:19:19.012053Z",
          "iopub.status.idle": "2021-08-04T06:19:19.020754Z",
          "shell.execute_reply": "2021-08-04T06:19:19.019612Z",
          "shell.execute_reply.started": "2021-08-04T06:19:19.012562Z"
        },
        "id": "0_5Lv5PiyG-z",
        "trusted": true
      },
      "outputs": [],
      "source": [
        "encoded_output = np.array(encoded_output).reshape(len(encoded_output), 1)"
      ]
    },
    {
      "cell_type": "code",
      "execution_count": 210,
      "metadata": {
        "execution": {
          "iopub.execute_input": "2021-08-04T06:19:19.022967Z",
          "iopub.status.busy": "2021-08-04T06:19:19.022479Z",
          "iopub.status.idle": "2021-08-04T06:19:19.031635Z",
          "shell.execute_reply": "2021-08-04T06:19:19.030472Z",
          "shell.execute_reply.started": "2021-08-04T06:19:19.022923Z"
        },
        "id": "dpM86WrVQlx5",
        "outputId": "abe3bd90-30fb-4e87-ffeb-0638329862bf",
        "trusted": true
      },
      "outputs": [
        {
          "data": {
            "text/plain": [
              "array([[1],\n",
              "       [1],\n",
              "       [1],\n",
              "       [1],\n",
              "       [1],\n",
              "       [1],\n",
              "       [1],\n",
              "       [1],\n",
              "       [1],\n",
              "       [1],\n",
              "       [1],\n",
              "       [1],\n",
              "       [1],\n",
              "       [1],\n",
              "       [1],\n",
              "       [1],\n",
              "       [1],\n",
              "       [1],\n",
              "       [1],\n",
              "       [1],\n",
              "       [1],\n",
              "       [1],\n",
              "       [1],\n",
              "       [1],\n",
              "       [1],\n",
              "       [1],\n",
              "       [1],\n",
              "       [1],\n",
              "       [1],\n",
              "       [1],\n",
              "       [1],\n",
              "       [1],\n",
              "       [1],\n",
              "       [1],\n",
              "       [3],\n",
              "       [3],\n",
              "       [3],\n",
              "       [3],\n",
              "       [3],\n",
              "       [3],\n",
              "       [3],\n",
              "       [3],\n",
              "       [3],\n",
              "       [3],\n",
              "       [3],\n",
              "       [3],\n",
              "       [3],\n",
              "       [3],\n",
              "       [3],\n",
              "       [3],\n",
              "       [3],\n",
              "       [3],\n",
              "       [3],\n",
              "       [3],\n",
              "       [3],\n",
              "       [3],\n",
              "       [3],\n",
              "       [3],\n",
              "       [3],\n",
              "       [3],\n",
              "       [3],\n",
              "       [3],\n",
              "       [3],\n",
              "       [3],\n",
              "       [3],\n",
              "       [3],\n",
              "       [3],\n",
              "       [3],\n",
              "       [3],\n",
              "       [3],\n",
              "       [3],\n",
              "       [4],\n",
              "       [4],\n",
              "       [4],\n",
              "       [4],\n",
              "       [4],\n",
              "       [4],\n",
              "       [2],\n",
              "       [2],\n",
              "       [2],\n",
              "       [2],\n",
              "       [2],\n",
              "       [2]])"
            ]
          },
          "execution_count": 210,
          "metadata": {},
          "output_type": "execute_result"
        }
      ],
      "source": [
        "encoded_output"
      ]
    },
    {
      "cell_type": "code",
      "execution_count": 211,
      "metadata": {
        "execution": {
          "iopub.execute_input": "2021-08-04T06:19:19.501574Z",
          "iopub.status.busy": "2021-08-04T06:19:19.501109Z",
          "iopub.status.idle": "2021-08-04T06:19:19.507566Z",
          "shell.execute_reply": "2021-08-04T06:19:19.506495Z",
          "shell.execute_reply.started": "2021-08-04T06:19:19.501527Z"
        },
        "id": "rD3QN-RPzfet",
        "trusted": true
      },
      "outputs": [],
      "source": [
        "def one_hot(encode):\n",
        "  o = OneHotEncoder(sparse = False)\n",
        "  return(o.fit_transform(encode))"
      ]
    },
    {
      "cell_type": "code",
      "execution_count": 212,
      "metadata": {
        "execution": {
          "iopub.execute_input": "2021-08-04T06:19:19.510307Z",
          "iopub.status.busy": "2021-08-04T06:19:19.509661Z",
          "iopub.status.idle": "2021-08-04T06:19:19.518615Z",
          "shell.execute_reply": "2021-08-04T06:19:19.517489Z",
          "shell.execute_reply.started": "2021-08-04T06:19:19.510265Z"
        },
        "trusted": true
      },
      "outputs": [],
      "source": [
        "output_one_hot = one_hot(encoded_output)"
      ]
    },
    {
      "cell_type": "code",
      "execution_count": 213,
      "metadata": {
        "execution": {
          "iopub.execute_input": "2021-08-04T06:19:19.521765Z",
          "iopub.status.busy": "2021-08-04T06:19:19.52125Z",
          "iopub.status.idle": "2021-08-04T06:19:19.532164Z",
          "shell.execute_reply": "2021-08-04T06:19:19.530424Z",
          "shell.execute_reply.started": "2021-08-04T06:19:19.521724Z"
        },
        "id": "A6HVslLTHgOM",
        "outputId": "854f508c-65ca-4af7-95d5-65c21815e7f3",
        "trusted": true
      },
      "outputs": [
        {
          "data": {
            "text/plain": [
              "array([[1., 0., 0., 0.],\n",
              "       [1., 0., 0., 0.],\n",
              "       [1., 0., 0., 0.],\n",
              "       [1., 0., 0., 0.],\n",
              "       [1., 0., 0., 0.],\n",
              "       [1., 0., 0., 0.],\n",
              "       [1., 0., 0., 0.],\n",
              "       [1., 0., 0., 0.],\n",
              "       [1., 0., 0., 0.],\n",
              "       [1., 0., 0., 0.],\n",
              "       [1., 0., 0., 0.],\n",
              "       [1., 0., 0., 0.],\n",
              "       [1., 0., 0., 0.],\n",
              "       [1., 0., 0., 0.],\n",
              "       [1., 0., 0., 0.],\n",
              "       [1., 0., 0., 0.],\n",
              "       [1., 0., 0., 0.],\n",
              "       [1., 0., 0., 0.],\n",
              "       [1., 0., 0., 0.],\n",
              "       [1., 0., 0., 0.],\n",
              "       [1., 0., 0., 0.],\n",
              "       [1., 0., 0., 0.],\n",
              "       [1., 0., 0., 0.],\n",
              "       [1., 0., 0., 0.],\n",
              "       [1., 0., 0., 0.],\n",
              "       [1., 0., 0., 0.],\n",
              "       [1., 0., 0., 0.],\n",
              "       [1., 0., 0., 0.],\n",
              "       [1., 0., 0., 0.],\n",
              "       [1., 0., 0., 0.],\n",
              "       [1., 0., 0., 0.],\n",
              "       [1., 0., 0., 0.],\n",
              "       [1., 0., 0., 0.],\n",
              "       [1., 0., 0., 0.],\n",
              "       [0., 0., 1., 0.],\n",
              "       [0., 0., 1., 0.],\n",
              "       [0., 0., 1., 0.],\n",
              "       [0., 0., 1., 0.],\n",
              "       [0., 0., 1., 0.],\n",
              "       [0., 0., 1., 0.],\n",
              "       [0., 0., 1., 0.],\n",
              "       [0., 0., 1., 0.],\n",
              "       [0., 0., 1., 0.],\n",
              "       [0., 0., 1., 0.],\n",
              "       [0., 0., 1., 0.],\n",
              "       [0., 0., 1., 0.],\n",
              "       [0., 0., 1., 0.],\n",
              "       [0., 0., 1., 0.],\n",
              "       [0., 0., 1., 0.],\n",
              "       [0., 0., 1., 0.],\n",
              "       [0., 0., 1., 0.],\n",
              "       [0., 0., 1., 0.],\n",
              "       [0., 0., 1., 0.],\n",
              "       [0., 0., 1., 0.],\n",
              "       [0., 0., 1., 0.],\n",
              "       [0., 0., 1., 0.],\n",
              "       [0., 0., 1., 0.],\n",
              "       [0., 0., 1., 0.],\n",
              "       [0., 0., 1., 0.],\n",
              "       [0., 0., 1., 0.],\n",
              "       [0., 0., 1., 0.],\n",
              "       [0., 0., 1., 0.],\n",
              "       [0., 0., 1., 0.],\n",
              "       [0., 0., 1., 0.],\n",
              "       [0., 0., 1., 0.],\n",
              "       [0., 0., 1., 0.],\n",
              "       [0., 0., 1., 0.],\n",
              "       [0., 0., 1., 0.],\n",
              "       [0., 0., 1., 0.],\n",
              "       [0., 0., 1., 0.],\n",
              "       [0., 0., 1., 0.],\n",
              "       [0., 0., 0., 1.],\n",
              "       [0., 0., 0., 1.],\n",
              "       [0., 0., 0., 1.],\n",
              "       [0., 0., 0., 1.],\n",
              "       [0., 0., 0., 1.],\n",
              "       [0., 0., 0., 1.],\n",
              "       [0., 1., 0., 0.],\n",
              "       [0., 1., 0., 0.],\n",
              "       [0., 1., 0., 0.],\n",
              "       [0., 1., 0., 0.],\n",
              "       [0., 1., 0., 0.],\n",
              "       [0., 1., 0., 0.]])"
            ]
          },
          "execution_count": 213,
          "metadata": {},
          "output_type": "execute_result"
        }
      ],
      "source": [
        "output_one_hot"
      ]
    },
    {
      "cell_type": "code",
      "execution_count": 214,
      "metadata": {
        "execution": {
          "iopub.execute_input": "2021-08-04T06:19:19.533974Z",
          "iopub.status.busy": "2021-08-04T06:19:19.533637Z",
          "iopub.status.idle": "2021-08-04T06:19:19.542526Z",
          "shell.execute_reply": "2021-08-04T06:19:19.54154Z",
          "shell.execute_reply.started": "2021-08-04T06:19:19.533942Z"
        },
        "id": "EqABUESD7xi9",
        "trusted": true
      },
      "outputs": [],
      "source": [
        "from sklearn.model_selection import train_test_split"
      ]
    },
    {
      "cell_type": "code",
      "execution_count": 215,
      "metadata": {
        "execution": {
          "iopub.execute_input": "2021-08-04T06:19:19.546114Z",
          "iopub.status.busy": "2021-08-04T06:19:19.545813Z",
          "iopub.status.idle": "2021-08-04T06:19:19.556608Z",
          "shell.execute_reply": "2021-08-04T06:19:19.55548Z",
          "shell.execute_reply.started": "2021-08-04T06:19:19.546077Z"
        },
        "id": "h8P4HTz6A4E-",
        "trusted": true
      },
      "outputs": [],
      "source": [
        "train_X, val_X, train_Y, val_Y = train_test_split(padded_doc, output_one_hot, shuffle = True, test_size = 0.2)\n"
      ]
    },
    {
      "cell_type": "code",
      "execution_count": 216,
      "metadata": {
        "execution": {
          "iopub.execute_input": "2021-08-04T06:19:19.558124Z",
          "iopub.status.busy": "2021-08-04T06:19:19.557849Z",
          "iopub.status.idle": "2021-08-04T06:19:19.568267Z",
          "shell.execute_reply": "2021-08-04T06:19:19.567034Z",
          "shell.execute_reply.started": "2021-08-04T06:19:19.558097Z"
        },
        "id": "7E0uhC2OCtTx",
        "outputId": "a729758e-b4ed-41e9-b717-2a00630e530c",
        "trusted": true
      },
      "outputs": [
        {
          "name": "stdout",
          "output_type": "stream",
          "text": [
            "Shape of train_X = (66, 1000) and train_Y = (66, 4)\n",
            "Shape of val_X = (17, 1000) and val_Y = (17, 4)\n"
          ]
        }
      ],
      "source": [
        "print(\"Shape of train_X = %s and train_Y = %s\" % (train_X.shape, train_Y.shape))\n",
        "print(\"Shape of val_X = %s and val_Y = %s\" % (val_X.shape, val_Y.shape))"
      ]
    },
    {
      "cell_type": "code",
      "execution_count": 217,
      "metadata": {
        "execution": {
          "iopub.execute_input": "2021-08-04T06:19:19.800935Z",
          "iopub.status.busy": "2021-08-04T06:19:19.800498Z",
          "iopub.status.idle": "2021-08-04T06:19:19.876087Z",
          "shell.execute_reply": "2021-08-04T06:19:19.875242Z",
          "shell.execute_reply.started": "2021-08-04T06:19:19.800893Z"
        },
        "trusted": true
      },
      "outputs": [],
      "source": [
        "from tensorflow.keras import layers\n",
        "import tensorflow as tf\n",
        "\n",
        "max_features = 4650\n",
        "embedding_dim = 128\n",
        "sequence_length = 500\n",
        "# A integer input for vocab indices.\n",
        "inputs = tf.keras.Input(shape=(None,), dtype=\"int64\")\n",
        "\n",
        "# Next, we add a layer to map those vocab indices into a space of dimensionality\n",
        "# 'embedding_dim'.\n",
        "x = layers.Embedding(max_features, embedding_dim)(inputs)\n",
        "x = layers.Dropout(0.5)(x)\n",
        "\n",
        "# Conv1D + global max pooling\n",
        "x = layers.Conv1D(128, 6, padding=\"valid\", activation=\"relu\", strides=3)(x)\n",
        "x = layers.Conv1D(128, 6, padding=\"valid\", activation=\"relu\", strides=3)(x)\n",
        "x = layers.GlobalMaxPooling1D()(x)\n",
        "\n",
        "# We add a vanilla hidden layer:\n",
        "x = layers.Dense(128, activation=\"relu\")(x)\n",
        "x = layers.Dropout(0.5)(x)\n",
        "\n",
        "# We project onto a single unit output layer, and squash it with a sigmoid:\n",
        "predictions = layers.Dense(4, activation=\"sigmoid\", name=\"predictions\")(x)\n",
        "\n",
        "model = tf.keras.Model(inputs, predictions)\n",
        "\n",
        "# Compile the model with binary crossentropy loss and an adam optimizer.\n",
        "model.compile(loss=\"binary_crossentropy\", optimizer=\"adam\", metrics=[\"accuracy\"])"
      ]
    },
    {
      "cell_type": "code",
      "execution_count": 218,
      "metadata": {
        "execution": {
          "iopub.execute_input": "2021-08-04T06:20:17.929626Z",
          "iopub.status.busy": "2021-08-04T06:20:17.929195Z",
          "iopub.status.idle": "2021-08-04T06:20:17.961109Z",
          "shell.execute_reply": "2021-08-04T06:20:17.960228Z",
          "shell.execute_reply.started": "2021-08-04T06:20:17.92958Z"
        },
        "id": "f-NvE0P7MFCe",
        "outputId": "c8b7340d-de64-47af-bb92-c4c949165fba",
        "trusted": true
      },
      "outputs": [
        {
          "name": "stdout",
          "output_type": "stream",
          "text": [
            "Model: \"model_6\"\n",
            "_________________________________________________________________\n",
            "Layer (type)                 Output Shape              Param #   \n",
            "=================================================================\n",
            "input_7 (InputLayer)         [(None, None)]            0         \n",
            "_________________________________________________________________\n",
            "embedding_6 (Embedding)      (None, None, 128)         595200    \n",
            "_________________________________________________________________\n",
            "dropout_12 (Dropout)         (None, None, 128)         0         \n",
            "_________________________________________________________________\n",
            "conv1d_12 (Conv1D)           (None, None, 128)         98432     \n",
            "_________________________________________________________________\n",
            "conv1d_13 (Conv1D)           (None, None, 128)         98432     \n",
            "_________________________________________________________________\n",
            "global_max_pooling1d_6 (Glob (None, 128)               0         \n",
            "_________________________________________________________________\n",
            "dense_6 (Dense)              (None, 128)               16512     \n",
            "_________________________________________________________________\n",
            "dropout_13 (Dropout)         (None, 128)               0         \n",
            "_________________________________________________________________\n",
            "predictions (Dense)          (None, 4)                 516       \n",
            "=================================================================\n",
            "Total params: 809,092\n",
            "Trainable params: 809,092\n",
            "Non-trainable params: 0\n",
            "_________________________________________________________________\n"
          ]
        }
      ],
      "source": [
        "#model = create_model(vocab_size, max_length)\n",
        "import tensorflow\n",
        "opt=tensorflow.keras.optimizers.Adam(learning_rate=1e-5)\n",
        "model.compile(loss = \"categorical_crossentropy\", optimizer = opt, metrics = [\"accuracy\"])\n",
        "model.summary()"
      ]
    },
    {
      "cell_type": "code",
      "execution_count": 219,
      "metadata": {
        "execution": {
          "iopub.execute_input": "2021-08-04T06:20:20.507467Z",
          "iopub.status.busy": "2021-08-04T06:20:20.507136Z",
          "iopub.status.idle": "2021-08-04T06:22:41.018576Z",
          "shell.execute_reply": "2021-08-04T06:22:41.017621Z",
          "shell.execute_reply.started": "2021-08-04T06:20:20.507434Z"
        },
        "id": "_r-dxm2sMQ-d",
        "outputId": "ca160dd3-e9af-4e73-caea-f1b6bd93e205",
        "trusted": true
      },
      "outputs": [
        {
          "name": "stdout",
          "output_type": "stream",
          "text": [
            "Epoch 1/100\n",
            "2/3 [===================>..........] - ETA: 0s - loss: 1.3865 - accuracy: 0.2656\n",
            "Epoch 00001: val_loss improved from inf to 1.38417, saving model to intent.h5\n",
            "3/3 [==============================] - 0s 160ms/step - loss: 1.3871 - accuracy: 0.2576 - val_loss: 1.3842 - val_accuracy: 0.4118\n",
            "Epoch 2/100\n",
            "2/3 [===================>..........] - ETA: 0s - loss: 1.3885 - accuracy: 0.2188\n",
            "Epoch 00002: val_loss improved from 1.38417 to 1.38392, saving model to intent.h5\n",
            "3/3 [==============================] - 0s 109ms/step - loss: 1.3877 - accuracy: 0.2273 - val_loss: 1.3839 - val_accuracy: 0.4118\n",
            "Epoch 3/100\n",
            "2/3 [===================>..........] - ETA: 0s - loss: 1.3875 - accuracy: 0.2812\n",
            "Epoch 00003: val_loss improved from 1.38392 to 1.38366, saving model to intent.h5\n",
            "3/3 [==============================] - 0s 112ms/step - loss: 1.3876 - accuracy: 0.2727 - val_loss: 1.3837 - val_accuracy: 0.4118\n",
            "Epoch 4/100\n",
            "2/3 [===================>..........] - ETA: 0s - loss: 1.3834 - accuracy: 0.2812\n",
            "Epoch 00004: val_loss improved from 1.38366 to 1.38340, saving model to intent.h5\n",
            "3/3 [==============================] - 0s 104ms/step - loss: 1.3832 - accuracy: 0.2727 - val_loss: 1.3834 - val_accuracy: 0.4118\n",
            "Epoch 5/100\n",
            "2/3 [===================>..........] - ETA: 0s - loss: 1.3825 - accuracy: 0.2656\n",
            "Epoch 00005: val_loss improved from 1.38340 to 1.38311, saving model to intent.h5\n",
            "3/3 [==============================] - 0s 112ms/step - loss: 1.3828 - accuracy: 0.2576 - val_loss: 1.3831 - val_accuracy: 0.4118\n",
            "Epoch 6/100\n",
            "2/3 [===================>..........] - ETA: 0s - loss: 1.3822 - accuracy: 0.1875\n",
            "Epoch 00006: val_loss improved from 1.38311 to 1.38281, saving model to intent.h5\n",
            "3/3 [==============================] - 0s 104ms/step - loss: 1.3814 - accuracy: 0.1970 - val_loss: 1.3828 - val_accuracy: 0.4118\n",
            "Epoch 7/100\n",
            "2/3 [===================>..........] - ETA: 0s - loss: 1.3865 - accuracy: 0.1875\n",
            "Epoch 00007: val_loss improved from 1.38281 to 1.38251, saving model to intent.h5\n",
            "3/3 [==============================] - 0s 111ms/step - loss: 1.3864 - accuracy: 0.1818 - val_loss: 1.3825 - val_accuracy: 0.4118\n",
            "Epoch 8/100\n",
            "2/3 [===================>..........] - ETA: 0s - loss: 1.3822 - accuracy: 0.3438\n",
            "Epoch 00008: val_loss improved from 1.38251 to 1.38221, saving model to intent.h5\n",
            "3/3 [==============================] - 0s 112ms/step - loss: 1.3815 - accuracy: 0.3485 - val_loss: 1.3822 - val_accuracy: 0.4118\n",
            "Epoch 9/100\n",
            "2/3 [===================>..........] - ETA: 0s - loss: 1.3786 - accuracy: 0.3125\n",
            "Epoch 00009: val_loss improved from 1.38221 to 1.38193, saving model to intent.h5\n",
            "3/3 [==============================] - 0s 95ms/step - loss: 1.3788 - accuracy: 0.3030 - val_loss: 1.3819 - val_accuracy: 0.4118\n",
            "Epoch 10/100\n",
            "2/3 [===================>..........] - ETA: 0s - loss: 1.3786 - accuracy: 0.3438\n",
            "Epoch 00010: val_loss improved from 1.38193 to 1.38166, saving model to intent.h5\n",
            "3/3 [==============================] - 0s 107ms/step - loss: 1.3783 - accuracy: 0.3333 - val_loss: 1.3817 - val_accuracy: 0.4118\n",
            "Epoch 11/100\n",
            "2/3 [===================>..........] - ETA: 0s - loss: 1.3739 - accuracy: 0.4062\n",
            "Epoch 00011: val_loss improved from 1.38166 to 1.38138, saving model to intent.h5\n",
            "3/3 [==============================] - 0s 107ms/step - loss: 1.3747 - accuracy: 0.3939 - val_loss: 1.3814 - val_accuracy: 0.4706\n",
            "Epoch 12/100\n",
            "2/3 [===================>..........] - ETA: 0s - loss: 1.3778 - accuracy: 0.2188\n",
            "Epoch 00012: val_loss improved from 1.38138 to 1.38112, saving model to intent.h5\n",
            "3/3 [==============================] - 0s 112ms/step - loss: 1.3780 - accuracy: 0.2121 - val_loss: 1.3811 - val_accuracy: 0.4706\n",
            "Epoch 13/100\n",
            "2/3 [===================>..........] - ETA: 0s - loss: 1.3750 - accuracy: 0.3906\n",
            "Epoch 00013: val_loss improved from 1.38112 to 1.38089, saving model to intent.h5\n",
            "3/3 [==============================] - 0s 116ms/step - loss: 1.3751 - accuracy: 0.3788 - val_loss: 1.3809 - val_accuracy: 0.4706\n",
            "Epoch 14/100\n",
            "2/3 [===================>..........] - ETA: 0s - loss: 1.3779 - accuracy: 0.4219\n",
            "Epoch 00014: val_loss improved from 1.38089 to 1.38068, saving model to intent.h5\n",
            "3/3 [==============================] - 0s 105ms/step - loss: 1.3780 - accuracy: 0.4242 - val_loss: 1.3807 - val_accuracy: 0.4118\n",
            "Epoch 15/100\n",
            "2/3 [===================>..........] - ETA: 0s - loss: 1.3705 - accuracy: 0.3906\n",
            "Epoch 00015: val_loss improved from 1.38068 to 1.38045, saving model to intent.h5\n",
            "3/3 [==============================] - 0s 98ms/step - loss: 1.3707 - accuracy: 0.3788 - val_loss: 1.3804 - val_accuracy: 0.4118\n",
            "Epoch 16/100\n",
            "2/3 [===================>..........] - ETA: 0s - loss: 1.3731 - accuracy: 0.4219\n",
            "Epoch 00016: val_loss improved from 1.38045 to 1.38022, saving model to intent.h5\n",
            "3/3 [==============================] - 0s 105ms/step - loss: 1.3736 - accuracy: 0.4091 - val_loss: 1.3802 - val_accuracy: 0.4118\n",
            "Epoch 17/100\n",
            "2/3 [===================>..........] - ETA: 0s - loss: 1.3708 - accuracy: 0.3438\n",
            "Epoch 00017: val_loss improved from 1.38022 to 1.38000, saving model to intent.h5\n",
            "3/3 [==============================] - 0s 92ms/step - loss: 1.3714 - accuracy: 0.3333 - val_loss: 1.3800 - val_accuracy: 0.4706\n",
            "Epoch 18/100\n",
            "2/3 [===================>..........] - ETA: 0s - loss: 1.3773 - accuracy: 0.3281\n",
            "Epoch 00018: val_loss improved from 1.38000 to 1.37978, saving model to intent.h5\n",
            "3/3 [==============================] - 0s 95ms/step - loss: 1.3765 - accuracy: 0.3333 - val_loss: 1.3798 - val_accuracy: 0.5294\n",
            "Epoch 19/100\n",
            "2/3 [===================>..........] - ETA: 0s - loss: 1.3706 - accuracy: 0.4062\n",
            "Epoch 00019: val_loss improved from 1.37978 to 1.37952, saving model to intent.h5\n",
            "3/3 [==============================] - 0s 102ms/step - loss: 1.3695 - accuracy: 0.4242 - val_loss: 1.3795 - val_accuracy: 0.5294\n",
            "Epoch 20/100\n",
            "2/3 [===================>..........] - ETA: 0s - loss: 1.3667 - accuracy: 0.4688\n",
            "Epoch 00020: val_loss improved from 1.37952 to 1.37925, saving model to intent.h5\n",
            "3/3 [==============================] - 0s 104ms/step - loss: 1.3672 - accuracy: 0.4545 - val_loss: 1.3793 - val_accuracy: 0.4706\n",
            "Epoch 21/100\n",
            "2/3 [===================>..........] - ETA: 0s - loss: 1.3731 - accuracy: 0.3125\n",
            "Epoch 00021: val_loss improved from 1.37925 to 1.37898, saving model to intent.h5\n",
            "3/3 [==============================] - 0s 105ms/step - loss: 1.3734 - accuracy: 0.3030 - val_loss: 1.3790 - val_accuracy: 0.5294\n",
            "Epoch 22/100\n",
            "2/3 [===================>..........] - ETA: 0s - loss: 1.3720 - accuracy: 0.3438\n",
            "Epoch 00022: val_loss improved from 1.37898 to 1.37871, saving model to intent.h5\n",
            "3/3 [==============================] - 0s 107ms/step - loss: 1.3713 - accuracy: 0.3485 - val_loss: 1.3787 - val_accuracy: 0.5294\n",
            "Epoch 23/100\n",
            "2/3 [===================>..........] - ETA: 0s - loss: 1.3691 - accuracy: 0.3281\n",
            "Epoch 00023: val_loss improved from 1.37871 to 1.37843, saving model to intent.h5\n",
            "3/3 [==============================] - 0s 109ms/step - loss: 1.3684 - accuracy: 0.3485 - val_loss: 1.3784 - val_accuracy: 0.4118\n",
            "Epoch 24/100\n",
            "2/3 [===================>..........] - ETA: 0s - loss: 1.3652 - accuracy: 0.4688\n",
            "Epoch 00024: val_loss improved from 1.37843 to 1.37814, saving model to intent.h5\n",
            "3/3 [==============================] - 0s 116ms/step - loss: 1.3648 - accuracy: 0.4697 - val_loss: 1.3781 - val_accuracy: 0.4118\n",
            "Epoch 25/100\n",
            "2/3 [===================>..........] - ETA: 0s - loss: 1.3637 - accuracy: 0.4219\n",
            "Epoch 00025: val_loss improved from 1.37814 to 1.37786, saving model to intent.h5\n",
            "3/3 [==============================] - 0s 112ms/step - loss: 1.3644 - accuracy: 0.4091 - val_loss: 1.3779 - val_accuracy: 0.4118\n",
            "Epoch 26/100\n",
            "2/3 [===================>..........] - ETA: 0s - loss: 1.3676 - accuracy: 0.3125\n",
            "Epoch 00026: val_loss improved from 1.37786 to 1.37761, saving model to intent.h5\n",
            "3/3 [==============================] - 0s 124ms/step - loss: 1.3675 - accuracy: 0.3182 - val_loss: 1.3776 - val_accuracy: 0.4118\n",
            "Epoch 27/100\n",
            "2/3 [===================>..........] - ETA: 0s - loss: 1.3634 - accuracy: 0.3750\n",
            "Epoch 00027: val_loss improved from 1.37761 to 1.37733, saving model to intent.h5\n",
            "3/3 [==============================] - 0s 115ms/step - loss: 1.3629 - accuracy: 0.3788 - val_loss: 1.3773 - val_accuracy: 0.4118\n",
            "Epoch 28/100\n",
            "2/3 [===================>..........] - ETA: 0s - loss: 1.3645 - accuracy: 0.4219\n",
            "Epoch 00028: val_loss improved from 1.37733 to 1.37703, saving model to intent.h5\n",
            "3/3 [==============================] - 0s 100ms/step - loss: 1.3647 - accuracy: 0.4091 - val_loss: 1.3770 - val_accuracy: 0.4118\n",
            "Epoch 29/100\n",
            "2/3 [===================>..........] - ETA: 0s - loss: 1.3623 - accuracy: 0.4531\n",
            "Epoch 00029: val_loss improved from 1.37703 to 1.37672, saving model to intent.h5\n",
            "3/3 [==============================] - 0s 130ms/step - loss: 1.3621 - accuracy: 0.4545 - val_loss: 1.3767 - val_accuracy: 0.4118\n",
            "Epoch 30/100\n",
            "2/3 [===================>..........] - ETA: 0s - loss: 1.3642 - accuracy: 0.4219\n",
            "Epoch 00030: val_loss improved from 1.37672 to 1.37642, saving model to intent.h5\n",
            "3/3 [==============================] - 0s 117ms/step - loss: 1.3637 - accuracy: 0.4242 - val_loss: 1.3764 - val_accuracy: 0.4118\n",
            "Epoch 31/100\n",
            "2/3 [===================>..........] - ETA: 0s - loss: 1.3611 - accuracy: 0.4375\n",
            "Epoch 00031: val_loss improved from 1.37642 to 1.37612, saving model to intent.h5\n",
            "3/3 [==============================] - 0s 106ms/step - loss: 1.3612 - accuracy: 0.4394 - val_loss: 1.3761 - val_accuracy: 0.4118\n",
            "Epoch 32/100\n",
            "2/3 [===================>..........] - ETA: 0s - loss: 1.3620 - accuracy: 0.4375\n",
            "Epoch 00032: val_loss improved from 1.37612 to 1.37584, saving model to intent.h5\n",
            "3/3 [==============================] - 0s 125ms/step - loss: 1.3633 - accuracy: 0.4394 - val_loss: 1.3758 - val_accuracy: 0.4118\n",
            "Epoch 33/100\n",
            "2/3 [===================>..........] - ETA: 0s - loss: 1.3612 - accuracy: 0.4375\n",
            "Epoch 00033: val_loss improved from 1.37584 to 1.37557, saving model to intent.h5\n",
            "3/3 [==============================] - 0s 126ms/step - loss: 1.3604 - accuracy: 0.4394 - val_loss: 1.3756 - val_accuracy: 0.4118\n",
            "Epoch 34/100\n",
            "2/3 [===================>..........] - ETA: 0s - loss: 1.3613 - accuracy: 0.4688\n",
            "Epoch 00034: val_loss improved from 1.37557 to 1.37530, saving model to intent.h5\n",
            "3/3 [==============================] - 0s 110ms/step - loss: 1.3611 - accuracy: 0.4697 - val_loss: 1.3753 - val_accuracy: 0.4118\n",
            "Epoch 35/100\n",
            "2/3 [===================>..........] - ETA: 0s - loss: 1.3632 - accuracy: 0.3594\n",
            "Epoch 00035: val_loss improved from 1.37530 to 1.37501, saving model to intent.h5\n",
            "3/3 [==============================] - 0s 107ms/step - loss: 1.3628 - accuracy: 0.3485 - val_loss: 1.3750 - val_accuracy: 0.4118\n",
            "Epoch 36/100\n",
            "2/3 [===================>..........] - ETA: 0s - loss: 1.3702 - accuracy: 0.3438\n",
            "Epoch 00036: val_loss improved from 1.37501 to 1.37474, saving model to intent.h5\n",
            "3/3 [==============================] - 0s 125ms/step - loss: 1.3710 - accuracy: 0.3333 - val_loss: 1.3747 - val_accuracy: 0.4118\n",
            "Epoch 37/100\n",
            "2/3 [===================>..........] - ETA: 0s - loss: 1.3604 - accuracy: 0.3750\n",
            "Epoch 00037: val_loss improved from 1.37474 to 1.37446, saving model to intent.h5\n",
            "3/3 [==============================] - 0s 113ms/step - loss: 1.3604 - accuracy: 0.3636 - val_loss: 1.3745 - val_accuracy: 0.4118\n",
            "Epoch 38/100\n",
            "2/3 [===================>..........] - ETA: 0s - loss: 1.3623 - accuracy: 0.4062\n",
            "Epoch 00038: val_loss improved from 1.37446 to 1.37418, saving model to intent.h5\n",
            "3/3 [==============================] - 0s 111ms/step - loss: 1.3624 - accuracy: 0.3939 - val_loss: 1.3742 - val_accuracy: 0.4118\n",
            "Epoch 39/100\n",
            "2/3 [===================>..........] - ETA: 0s - loss: 1.3581 - accuracy: 0.4375\n",
            "Epoch 00039: val_loss improved from 1.37418 to 1.37393, saving model to intent.h5\n",
            "3/3 [==============================] - 0s 117ms/step - loss: 1.3572 - accuracy: 0.4545 - val_loss: 1.3739 - val_accuracy: 0.4118\n",
            "Epoch 40/100\n",
            "2/3 [===================>..........] - ETA: 0s - loss: 1.3612 - accuracy: 0.4219\n",
            "Epoch 00040: val_loss improved from 1.37393 to 1.37367, saving model to intent.h5\n",
            "3/3 [==============================] - 0s 122ms/step - loss: 1.3606 - accuracy: 0.4394 - val_loss: 1.3737 - val_accuracy: 0.4118\n",
            "Epoch 41/100\n",
            "2/3 [===================>..........] - ETA: 0s - loss: 1.3588 - accuracy: 0.4219\n",
            "Epoch 00041: val_loss improved from 1.37367 to 1.37340, saving model to intent.h5\n",
            "3/3 [==============================] - 0s 119ms/step - loss: 1.3592 - accuracy: 0.4091 - val_loss: 1.3734 - val_accuracy: 0.4118\n",
            "Epoch 42/100\n",
            "2/3 [===================>..........] - ETA: 0s - loss: 1.3519 - accuracy: 0.5000\n",
            "Epoch 00042: val_loss improved from 1.37340 to 1.37311, saving model to intent.h5\n",
            "3/3 [==============================] - 0s 109ms/step - loss: 1.3510 - accuracy: 0.5152 - val_loss: 1.3731 - val_accuracy: 0.4118\n",
            "Epoch 43/100\n",
            "2/3 [===================>..........] - ETA: 0s - loss: 1.3481 - accuracy: 0.5156\n",
            "Epoch 00043: val_loss improved from 1.37311 to 1.37280, saving model to intent.h5\n",
            "3/3 [==============================] - 0s 113ms/step - loss: 1.3476 - accuracy: 0.5152 - val_loss: 1.3728 - val_accuracy: 0.4118\n",
            "Epoch 44/100\n",
            "2/3 [===================>..........] - ETA: 0s - loss: 1.3570 - accuracy: 0.3750\n",
            "Epoch 00044: val_loss improved from 1.37280 to 1.37247, saving model to intent.h5\n",
            "3/3 [==============================] - 0s 98ms/step - loss: 1.3567 - accuracy: 0.3788 - val_loss: 1.3725 - val_accuracy: 0.4118\n",
            "Epoch 45/100\n",
            "2/3 [===================>..........] - ETA: 0s - loss: 1.3532 - accuracy: 0.4375\n",
            "Epoch 00045: val_loss improved from 1.37247 to 1.37212, saving model to intent.h5\n",
            "3/3 [==============================] - 0s 103ms/step - loss: 1.3556 - accuracy: 0.4242 - val_loss: 1.3721 - val_accuracy: 0.4118\n",
            "Epoch 46/100\n",
            "2/3 [===================>..........] - ETA: 0s - loss: 1.3500 - accuracy: 0.4375\n",
            "Epoch 00046: val_loss improved from 1.37212 to 1.37180, saving model to intent.h5\n",
            "3/3 [==============================] - 0s 111ms/step - loss: 1.3497 - accuracy: 0.4242 - val_loss: 1.3718 - val_accuracy: 0.4118\n",
            "Epoch 47/100\n",
            "2/3 [===================>..........] - ETA: 0s - loss: 1.3535 - accuracy: 0.4062\n",
            "Epoch 00047: val_loss improved from 1.37180 to 1.37145, saving model to intent.h5\n",
            "3/3 [==============================] - 0s 106ms/step - loss: 1.3534 - accuracy: 0.3939 - val_loss: 1.3714 - val_accuracy: 0.4118\n",
            "Epoch 48/100\n",
            "2/3 [===================>..........] - ETA: 0s - loss: 1.3474 - accuracy: 0.4844\n",
            "Epoch 00048: val_loss improved from 1.37145 to 1.37108, saving model to intent.h5\n",
            "3/3 [==============================] - 0s 107ms/step - loss: 1.3478 - accuracy: 0.4848 - val_loss: 1.3711 - val_accuracy: 0.4118\n",
            "Epoch 49/100\n",
            "2/3 [===================>..........] - ETA: 0s - loss: 1.3534 - accuracy: 0.4375\n",
            "Epoch 00049: val_loss improved from 1.37108 to 1.37071, saving model to intent.h5\n",
            "3/3 [==============================] - 0s 109ms/step - loss: 1.3529 - accuracy: 0.4394 - val_loss: 1.3707 - val_accuracy: 0.4118\n",
            "Epoch 50/100\n",
            "2/3 [===================>..........] - ETA: 0s - loss: 1.3456 - accuracy: 0.4062\n",
            "Epoch 00050: val_loss improved from 1.37071 to 1.37035, saving model to intent.h5\n",
            "3/3 [==============================] - 0s 109ms/step - loss: 1.3476 - accuracy: 0.3939 - val_loss: 1.3703 - val_accuracy: 0.4118\n",
            "Epoch 51/100\n",
            "2/3 [===================>..........] - ETA: 0s - loss: 1.3487 - accuracy: 0.4062\n",
            "Epoch 00051: val_loss improved from 1.37035 to 1.37002, saving model to intent.h5\n",
            "3/3 [==============================] - 0s 108ms/step - loss: 1.3503 - accuracy: 0.3939 - val_loss: 1.3700 - val_accuracy: 0.4118\n",
            "Epoch 52/100\n",
            "2/3 [===================>..........] - ETA: 0s - loss: 1.3462 - accuracy: 0.4688\n",
            "Epoch 00052: val_loss improved from 1.37002 to 1.36970, saving model to intent.h5\n",
            "3/3 [==============================] - 0s 106ms/step - loss: 1.3468 - accuracy: 0.4545 - val_loss: 1.3697 - val_accuracy: 0.4118\n",
            "Epoch 53/100\n",
            "2/3 [===================>..........] - ETA: 0s - loss: 1.3484 - accuracy: 0.3906\n",
            "Epoch 00053: val_loss improved from 1.36970 to 1.36937, saving model to intent.h5\n",
            "3/3 [==============================] - 0s 111ms/step - loss: 1.3469 - accuracy: 0.4091 - val_loss: 1.3694 - val_accuracy: 0.4118\n",
            "Epoch 54/100\n",
            "2/3 [===================>..........] - ETA: 0s - loss: 1.3423 - accuracy: 0.5625\n",
            "Epoch 00054: val_loss improved from 1.36937 to 1.36902, saving model to intent.h5\n",
            "3/3 [==============================] - 0s 114ms/step - loss: 1.3438 - accuracy: 0.5455 - val_loss: 1.3690 - val_accuracy: 0.4118\n",
            "Epoch 55/100\n",
            "2/3 [===================>..........] - ETA: 0s - loss: 1.3448 - accuracy: 0.4219\n",
            "Epoch 00055: val_loss improved from 1.36902 to 1.36869, saving model to intent.h5\n",
            "3/3 [==============================] - 0s 121ms/step - loss: 1.3455 - accuracy: 0.4091 - val_loss: 1.3687 - val_accuracy: 0.4118\n",
            "Epoch 56/100\n",
            "2/3 [===================>..........] - ETA: 0s - loss: 1.3393 - accuracy: 0.5000\n",
            "Epoch 00056: val_loss improved from 1.36869 to 1.36836, saving model to intent.h5\n",
            "3/3 [==============================] - 0s 113ms/step - loss: 1.3401 - accuracy: 0.5000 - val_loss: 1.3684 - val_accuracy: 0.4118\n",
            "Epoch 57/100\n",
            "2/3 [===================>..........] - ETA: 0s - loss: 1.3452 - accuracy: 0.4375\n",
            "Epoch 00057: val_loss improved from 1.36836 to 1.36805, saving model to intent.h5\n",
            "3/3 [==============================] - 0s 114ms/step - loss: 1.3455 - accuracy: 0.4394 - val_loss: 1.3680 - val_accuracy: 0.4118\n",
            "Epoch 58/100\n",
            "2/3 [===================>..........] - ETA: 0s - loss: 1.3433 - accuracy: 0.4531\n",
            "Epoch 00058: val_loss improved from 1.36805 to 1.36773, saving model to intent.h5\n",
            "3/3 [==============================] - 0s 110ms/step - loss: 1.3425 - accuracy: 0.4697 - val_loss: 1.3677 - val_accuracy: 0.4118\n",
            "Epoch 59/100\n",
            "2/3 [===================>..........] - ETA: 0s - loss: 1.3369 - accuracy: 0.5312\n",
            "Epoch 00059: val_loss improved from 1.36773 to 1.36740, saving model to intent.h5\n",
            "3/3 [==============================] - 0s 112ms/step - loss: 1.3383 - accuracy: 0.5303 - val_loss: 1.3674 - val_accuracy: 0.4118\n",
            "Epoch 60/100\n",
            "2/3 [===================>..........] - ETA: 0s - loss: 1.3401 - accuracy: 0.4688\n",
            "Epoch 00060: val_loss improved from 1.36740 to 1.36708, saving model to intent.h5\n",
            "3/3 [==============================] - 0s 104ms/step - loss: 1.3400 - accuracy: 0.4697 - val_loss: 1.3671 - val_accuracy: 0.4118\n",
            "Epoch 61/100\n",
            "2/3 [===================>..........] - ETA: 0s - loss: 1.3386 - accuracy: 0.4375\n",
            "Epoch 00061: val_loss improved from 1.36708 to 1.36671, saving model to intent.h5\n",
            "3/3 [==============================] - 0s 96ms/step - loss: 1.3379 - accuracy: 0.4394 - val_loss: 1.3667 - val_accuracy: 0.4118\n",
            "Epoch 62/100\n",
            "2/3 [===================>..........] - ETA: 0s - loss: 1.3372 - accuracy: 0.4375\n",
            "Epoch 00062: val_loss improved from 1.36671 to 1.36632, saving model to intent.h5\n",
            "3/3 [==============================] - 0s 101ms/step - loss: 1.3394 - accuracy: 0.4242 - val_loss: 1.3663 - val_accuracy: 0.4118\n",
            "Epoch 63/100\n",
            "2/3 [===================>..........] - ETA: 0s - loss: 1.3371 - accuracy: 0.4688\n",
            "Epoch 00063: val_loss improved from 1.36632 to 1.36596, saving model to intent.h5\n",
            "3/3 [==============================] - 0s 100ms/step - loss: 1.3391 - accuracy: 0.4545 - val_loss: 1.3660 - val_accuracy: 0.4118\n",
            "Epoch 64/100\n",
            "2/3 [===================>..........] - ETA: 0s - loss: 1.3370 - accuracy: 0.4375\n",
            "Epoch 00064: val_loss improved from 1.36596 to 1.36564, saving model to intent.h5\n",
            "3/3 [==============================] - 0s 105ms/step - loss: 1.3409 - accuracy: 0.4242 - val_loss: 1.3656 - val_accuracy: 0.4118\n",
            "Epoch 65/100\n",
            "2/3 [===================>..........] - ETA: 0s - loss: 1.3412 - accuracy: 0.4844\n",
            "Epoch 00065: val_loss improved from 1.36564 to 1.36533, saving model to intent.h5\n",
            "3/3 [==============================] - 0s 111ms/step - loss: 1.3406 - accuracy: 0.4697 - val_loss: 1.3653 - val_accuracy: 0.4118\n",
            "Epoch 66/100\n",
            "2/3 [===================>..........] - ETA: 0s - loss: 1.3313 - accuracy: 0.4688\n",
            "Epoch 00066: val_loss improved from 1.36533 to 1.36498, saving model to intent.h5\n",
            "3/3 [==============================] - 0s 105ms/step - loss: 1.3299 - accuracy: 0.4848 - val_loss: 1.3650 - val_accuracy: 0.4118\n",
            "Epoch 67/100\n",
            "2/3 [===================>..........] - ETA: 0s - loss: 1.3336 - accuracy: 0.5312\n",
            "Epoch 00067: val_loss improved from 1.36498 to 1.36458, saving model to intent.h5\n",
            "3/3 [==============================] - 0s 103ms/step - loss: 1.3333 - accuracy: 0.5303 - val_loss: 1.3646 - val_accuracy: 0.4118\n",
            "Epoch 68/100\n",
            "2/3 [===================>..........] - ETA: 0s - loss: 1.3360 - accuracy: 0.4375\n",
            "Epoch 00068: val_loss improved from 1.36458 to 1.36415, saving model to intent.h5\n",
            "3/3 [==============================] - 0s 100ms/step - loss: 1.3362 - accuracy: 0.4242 - val_loss: 1.3641 - val_accuracy: 0.4118\n",
            "Epoch 69/100\n",
            "2/3 [===================>..........] - ETA: 0s - loss: 1.3437 - accuracy: 0.3906\n",
            "Epoch 00069: val_loss improved from 1.36415 to 1.36369, saving model to intent.h5\n",
            "3/3 [==============================] - 0s 109ms/step - loss: 1.3421 - accuracy: 0.3939 - val_loss: 1.3637 - val_accuracy: 0.4118\n",
            "Epoch 70/100\n",
            "2/3 [===================>..........] - ETA: 0s - loss: 1.3349 - accuracy: 0.4844\n",
            "Epoch 00070: val_loss improved from 1.36369 to 1.36322, saving model to intent.h5\n",
            "3/3 [==============================] - 0s 97ms/step - loss: 1.3344 - accuracy: 0.4848 - val_loss: 1.3632 - val_accuracy: 0.4118\n",
            "Epoch 71/100\n",
            "2/3 [===================>..........] - ETA: 0s - loss: 1.3330 - accuracy: 0.4844\n",
            "Epoch 00071: val_loss improved from 1.36322 to 1.36274, saving model to intent.h5\n",
            "3/3 [==============================] - 1s 173ms/step - loss: 1.3324 - accuracy: 0.4697 - val_loss: 1.3627 - val_accuracy: 0.4118\n",
            "Epoch 72/100\n",
            "2/3 [===================>..........] - ETA: 0s - loss: 1.3352 - accuracy: 0.4219\n",
            "Epoch 00072: val_loss improved from 1.36274 to 1.36225, saving model to intent.h5\n",
            "3/3 [==============================] - 0s 101ms/step - loss: 1.3344 - accuracy: 0.4394 - val_loss: 1.3622 - val_accuracy: 0.4118\n",
            "Epoch 73/100\n",
            "2/3 [===================>..........] - ETA: 0s - loss: 1.3356 - accuracy: 0.4219\n",
            "Epoch 00073: val_loss improved from 1.36225 to 1.36176, saving model to intent.h5\n",
            "3/3 [==============================] - 0s 104ms/step - loss: 1.3353 - accuracy: 0.4242 - val_loss: 1.3618 - val_accuracy: 0.4118\n",
            "Epoch 74/100\n",
            "2/3 [===================>..........] - ETA: 0s - loss: 1.3388 - accuracy: 0.4688\n",
            "Epoch 00074: val_loss improved from 1.36176 to 1.36127, saving model to intent.h5\n",
            "3/3 [==============================] - 0s 123ms/step - loss: 1.3382 - accuracy: 0.4697 - val_loss: 1.3613 - val_accuracy: 0.4118\n",
            "Epoch 75/100\n",
            "2/3 [===================>..........] - ETA: 0s - loss: 1.3258 - accuracy: 0.4062\n",
            "Epoch 00075: val_loss improved from 1.36127 to 1.36081, saving model to intent.h5\n",
            "3/3 [==============================] - 0s 109ms/step - loss: 1.3305 - accuracy: 0.3939 - val_loss: 1.3608 - val_accuracy: 0.4118\n",
            "Epoch 76/100\n",
            "2/3 [===================>..........] - ETA: 0s - loss: 1.3348 - accuracy: 0.4531\n",
            "Epoch 00076: val_loss improved from 1.36081 to 1.36042, saving model to intent.h5\n",
            "3/3 [==============================] - 0s 106ms/step - loss: 1.3352 - accuracy: 0.4394 - val_loss: 1.3604 - val_accuracy: 0.4118\n",
            "Epoch 77/100\n",
            "2/3 [===================>..........] - ETA: 0s - loss: 1.3241 - accuracy: 0.5000\n",
            "Epoch 00077: val_loss improved from 1.36042 to 1.36003, saving model to intent.h5\n",
            "3/3 [==============================] - 0s 110ms/step - loss: 1.3276 - accuracy: 0.4848 - val_loss: 1.3600 - val_accuracy: 0.4118\n",
            "Epoch 78/100\n",
            "2/3 [===================>..........] - ETA: 0s - loss: 1.3304 - accuracy: 0.3750\n",
            "Epoch 00078: val_loss improved from 1.36003 to 1.35967, saving model to intent.h5\n",
            "3/3 [==============================] - 0s 116ms/step - loss: 1.3300 - accuracy: 0.3788 - val_loss: 1.3597 - val_accuracy: 0.4118\n",
            "Epoch 79/100\n",
            "2/3 [===================>..........] - ETA: 0s - loss: 1.3341 - accuracy: 0.4531\n",
            "Epoch 00079: val_loss improved from 1.35967 to 1.35926, saving model to intent.h5\n",
            "3/3 [==============================] - 0s 101ms/step - loss: 1.3330 - accuracy: 0.4545 - val_loss: 1.3593 - val_accuracy: 0.4118\n",
            "Epoch 80/100\n",
            "2/3 [===================>..........] - ETA: 0s - loss: 1.3309 - accuracy: 0.3750\n",
            "Epoch 00080: val_loss improved from 1.35926 to 1.35881, saving model to intent.h5\n",
            "3/3 [==============================] - 0s 115ms/step - loss: 1.3300 - accuracy: 0.3939 - val_loss: 1.3588 - val_accuracy: 0.4118\n",
            "Epoch 81/100\n",
            "2/3 [===================>..........] - ETA: 0s - loss: 1.3247 - accuracy: 0.4844\n",
            "Epoch 00081: val_loss improved from 1.35881 to 1.35837, saving model to intent.h5\n",
            "3/3 [==============================] - 0s 123ms/step - loss: 1.3284 - accuracy: 0.4697 - val_loss: 1.3584 - val_accuracy: 0.4118\n",
            "Epoch 82/100\n",
            "2/3 [===================>..........] - ETA: 0s - loss: 1.3256 - accuracy: 0.4375\n",
            "Epoch 00082: val_loss improved from 1.35837 to 1.35794, saving model to intent.h5\n",
            "3/3 [==============================] - 0s 106ms/step - loss: 1.3251 - accuracy: 0.4394 - val_loss: 1.3579 - val_accuracy: 0.4118\n",
            "Epoch 83/100\n",
            "2/3 [===================>..........] - ETA: 0s - loss: 1.3245 - accuracy: 0.3906\n",
            "Epoch 00083: val_loss improved from 1.35794 to 1.35746, saving model to intent.h5\n",
            "3/3 [==============================] - 0s 105ms/step - loss: 1.3226 - accuracy: 0.3939 - val_loss: 1.3575 - val_accuracy: 0.4118\n",
            "Epoch 84/100\n",
            "2/3 [===================>..........] - ETA: 0s - loss: 1.3268 - accuracy: 0.3906\n",
            "Epoch 00084: val_loss improved from 1.35746 to 1.35698, saving model to intent.h5\n",
            "3/3 [==============================] - 0s 119ms/step - loss: 1.3294 - accuracy: 0.3788 - val_loss: 1.3570 - val_accuracy: 0.4118\n",
            "Epoch 85/100\n",
            "2/3 [===================>..........] - ETA: 0s - loss: 1.3206 - accuracy: 0.5000\n",
            "Epoch 00085: val_loss improved from 1.35698 to 1.35649, saving model to intent.h5\n",
            "3/3 [==============================] - 0s 104ms/step - loss: 1.3202 - accuracy: 0.4848 - val_loss: 1.3565 - val_accuracy: 0.4118\n",
            "Epoch 86/100\n",
            "2/3 [===================>..........] - ETA: 0s - loss: 1.3272 - accuracy: 0.4219\n",
            "Epoch 00086: val_loss improved from 1.35649 to 1.35596, saving model to intent.h5\n",
            "3/3 [==============================] - 0s 109ms/step - loss: 1.3258 - accuracy: 0.4394 - val_loss: 1.3560 - val_accuracy: 0.4118\n",
            "Epoch 87/100\n",
            "2/3 [===================>..........] - ETA: 0s - loss: 1.3153 - accuracy: 0.5000\n",
            "Epoch 00087: val_loss improved from 1.35596 to 1.35540, saving model to intent.h5\n",
            "3/3 [==============================] - 0s 104ms/step - loss: 1.3147 - accuracy: 0.5000 - val_loss: 1.3554 - val_accuracy: 0.4118\n",
            "Epoch 88/100\n",
            "2/3 [===================>..........] - ETA: 0s - loss: 1.3156 - accuracy: 0.4375\n",
            "Epoch 00088: val_loss improved from 1.35540 to 1.35485, saving model to intent.h5\n",
            "3/3 [==============================] - 0s 115ms/step - loss: 1.3177 - accuracy: 0.4242 - val_loss: 1.3548 - val_accuracy: 0.4118\n",
            "Epoch 89/100\n",
            "2/3 [===================>..........] - ETA: 0s - loss: 1.3176 - accuracy: 0.4219\n",
            "Epoch 00089: val_loss improved from 1.35485 to 1.35433, saving model to intent.h5\n",
            "3/3 [==============================] - 0s 111ms/step - loss: 1.3165 - accuracy: 0.4242 - val_loss: 1.3543 - val_accuracy: 0.4118\n",
            "Epoch 90/100\n",
            "2/3 [===================>..........] - ETA: 0s - loss: 1.3197 - accuracy: 0.3906\n",
            "Epoch 00090: val_loss improved from 1.35433 to 1.35379, saving model to intent.h5\n",
            "3/3 [==============================] - 0s 110ms/step - loss: 1.3220 - accuracy: 0.3939 - val_loss: 1.3538 - val_accuracy: 0.4118\n",
            "Epoch 91/100\n",
            "2/3 [===================>..........] - ETA: 0s - loss: 1.3147 - accuracy: 0.5156\n",
            "Epoch 00091: val_loss improved from 1.35379 to 1.35324, saving model to intent.h5\n",
            "3/3 [==============================] - 0s 111ms/step - loss: 1.3134 - accuracy: 0.5152 - val_loss: 1.3532 - val_accuracy: 0.4118\n",
            "Epoch 92/100\n",
            "2/3 [===================>..........] - ETA: 0s - loss: 1.3168 - accuracy: 0.5156\n",
            "Epoch 00092: val_loss improved from 1.35324 to 1.35264, saving model to intent.h5\n",
            "3/3 [==============================] - 0s 110ms/step - loss: 1.3168 - accuracy: 0.5000 - val_loss: 1.3526 - val_accuracy: 0.4118\n",
            "Epoch 93/100\n",
            "2/3 [===================>..........] - ETA: 0s - loss: 1.3089 - accuracy: 0.4688\n",
            "Epoch 00093: val_loss improved from 1.35264 to 1.35200, saving model to intent.h5\n",
            "3/3 [==============================] - 0s 107ms/step - loss: 1.3080 - accuracy: 0.4697 - val_loss: 1.3520 - val_accuracy: 0.4118\n",
            "Epoch 94/100\n",
            "2/3 [===================>..........] - ETA: 0s - loss: 1.3140 - accuracy: 0.4375\n",
            "Epoch 00094: val_loss improved from 1.35200 to 1.35136, saving model to intent.h5\n",
            "3/3 [==============================] - 0s 104ms/step - loss: 1.3126 - accuracy: 0.4545 - val_loss: 1.3514 - val_accuracy: 0.4118\n",
            "Epoch 95/100\n",
            "2/3 [===================>..........] - ETA: 0s - loss: 1.3105 - accuracy: 0.4688\n",
            "Epoch 00095: val_loss improved from 1.35136 to 1.35070, saving model to intent.h5\n",
            "3/3 [==============================] - 0s 101ms/step - loss: 1.3092 - accuracy: 0.4697 - val_loss: 1.3507 - val_accuracy: 0.4118\n",
            "Epoch 96/100\n",
            "2/3 [===================>..........] - ETA: 0s - loss: 1.3105 - accuracy: 0.3906\n",
            "Epoch 00096: val_loss improved from 1.35070 to 1.35007, saving model to intent.h5\n",
            "3/3 [==============================] - 0s 114ms/step - loss: 1.3123 - accuracy: 0.3939 - val_loss: 1.3501 - val_accuracy: 0.4118\n",
            "Epoch 97/100\n",
            "2/3 [===================>..........] - ETA: 0s - loss: 1.3123 - accuracy: 0.4375\n",
            "Epoch 00097: val_loss improved from 1.35007 to 1.34950, saving model to intent.h5\n",
            "3/3 [==============================] - 0s 105ms/step - loss: 1.3140 - accuracy: 0.4394 - val_loss: 1.3495 - val_accuracy: 0.4118\n",
            "Epoch 98/100\n",
            "2/3 [===================>..........] - ETA: 0s - loss: 1.3058 - accuracy: 0.5000\n",
            "Epoch 00098: val_loss improved from 1.34950 to 1.34896, saving model to intent.h5\n",
            "3/3 [==============================] - 0s 109ms/step - loss: 1.3085 - accuracy: 0.4848 - val_loss: 1.3490 - val_accuracy: 0.4118\n",
            "Epoch 99/100\n",
            "2/3 [===================>..........] - ETA: 0s - loss: 1.3114 - accuracy: 0.4375\n",
            "Epoch 00099: val_loss improved from 1.34896 to 1.34842, saving model to intent.h5\n",
            "3/3 [==============================] - 0s 118ms/step - loss: 1.3105 - accuracy: 0.4545 - val_loss: 1.3484 - val_accuracy: 0.4118\n",
            "Epoch 100/100\n",
            "2/3 [===================>..........] - ETA: 0s - loss: 1.3111 - accuracy: 0.5312\n",
            "Epoch 00100: val_loss improved from 1.34842 to 1.34781, saving model to intent.h5\n",
            "3/3 [==============================] - 0s 113ms/step - loss: 1.3101 - accuracy: 0.5303 - val_loss: 1.3478 - val_accuracy: 0.4118\n"
          ]
        }
      ],
      "source": [
        "filename = 'intent.h5'\n",
        "checkpoint = ModelCheckpoint(filename, monitor='val_loss', verbose=1, save_best_only=True, mode='min')\n",
        "\n",
        "hist = model.fit(train_X, train_Y, epochs = 100, batch_size = 32, validation_data = (val_X, val_Y), callbacks = [checkpoint])"
      ]
    },
    {
      "cell_type": "code",
      "execution_count": 220,
      "metadata": {},
      "outputs": [],
      "source": [
        "model.save(\"intent.h5\")"
      ]
    },
    {
      "cell_type": "code",
      "execution_count": null,
      "metadata": {
        "execution": {
          "iopub.execute_input": "2021-08-04T06:33:52.35566Z",
          "iopub.status.busy": "2021-08-04T06:33:52.355288Z",
          "iopub.status.idle": "2021-08-04T06:33:52.484653Z",
          "shell.execute_reply": "2021-08-04T06:33:52.483782Z",
          "shell.execute_reply.started": "2021-08-04T06:33:52.355628Z"
        },
        "id": "YjXKos8ocXvw",
        "trusted": true
      },
      "outputs": [],
      "source": [
        "# model = load_model(\"intent.h5\")"
      ]
    },
    {
      "cell_type": "code",
      "execution_count": 221,
      "metadata": {
        "execution": {
          "iopub.execute_input": "2021-08-04T06:34:01.485942Z",
          "iopub.status.busy": "2021-08-04T06:34:01.485533Z",
          "iopub.status.idle": "2021-08-04T06:34:01.492446Z",
          "shell.execute_reply": "2021-08-04T06:34:01.491212Z",
          "shell.execute_reply.started": "2021-08-04T06:34:01.485909Z"
        },
        "id": "qSTEzrlzcuya",
        "trusted": true
      },
      "outputs": [],
      "source": [
        "def predictions(text):\n",
        "  clean = re.sub(r'[^ a-z A-Z 0-9]', \" \", text)\n",
        "  test_word = word_tokenize(clean)\n",
        "  test_word = [w.lower() for w in test_word]\n",
        "  test_ls = word_tokenizer.texts_to_sequences(test_word)\n",
        "  print(test_word)\n",
        "  #Check for unknown words\n",
        "  if [] in test_ls:\n",
        "    test_ls = list(filter(None, test_ls))\n",
        "    \n",
        "  test_ls = np.array(test_ls).reshape(1, len(test_ls))\n",
        " \n",
        "  x = padding_doc(test_ls, max_length)\n",
        "  \n",
        "  pred = model.predict(x)\n",
        "  \n",
        "  \n",
        "  return pred\n",
        "\n",
        "\n",
        "  "
      ]
    },
    {
      "cell_type": "code",
      "execution_count": 222,
      "metadata": {
        "execution": {
          "iopub.execute_input": "2021-08-04T06:34:05.749115Z",
          "iopub.status.busy": "2021-08-04T06:34:05.748787Z",
          "iopub.status.idle": "2021-08-04T06:34:05.754447Z",
          "shell.execute_reply": "2021-08-04T06:34:05.75359Z",
          "shell.execute_reply.started": "2021-08-04T06:34:05.749087Z"
        },
        "id": "P1ddofshmdzK",
        "trusted": true
      },
      "outputs": [],
      "source": [
        "def get_final_output(pred, classes):\n",
        "  predictions = pred[0]\n",
        " \n",
        "  classes = np.array(classes)\n",
        "  ids = np.argsort(-predictions)\n",
        "  classes = classes[ids]\n",
        "  predictions = -np.sort(-predictions)\n",
        " \n",
        "  for i in range(pred.shape[1]):\n",
        "    print(\"%s has confidence = %s\" % (classes[i], (predictions[i])))\n",
        "\n"
      ]
    },
    {
      "cell_type": "code",
      "execution_count": 223,
      "metadata": {
        "execution": {
          "iopub.execute_input": "2021-08-04T06:36:15.016734Z",
          "iopub.status.busy": "2021-08-04T06:36:15.016385Z",
          "iopub.status.idle": "2021-08-04T06:36:15.069838Z",
          "shell.execute_reply": "2021-08-04T06:36:15.068986Z",
          "shell.execute_reply.started": "2021-08-04T06:36:15.016676Z"
        },
        "id": "23VpGuihMdEU",
        "outputId": "407658b9-f870-47d3-bca6-abe69003aae4",
        "trusted": true
      },
      "outputs": [
        {
          "name": "stdout",
          "output_type": "stream",
          "text": [
            "['i', 'want', 'to', 'be', 'a', 'doctor', 'when', 'i', 'growup']\n",
            "CONVERSATION has confidence = 0.5416126\n",
            "GREETINGS has confidence = 0.5298082\n",
            "CODE_CAREER has confidence = 0.48259538\n",
            "CODE_WOMAN has confidence = 0.46001616\n"
          ]
        }
      ],
      "source": [
        "text = \"I want to be a doctor when I growup\"\n",
        "pred = predictions(text)\n",
        "get_final_output(pred, unique_intent)"
      ]
    },
    {
      "cell_type": "code",
      "execution_count": null,
      "metadata": {
        "execution": {
          "iopub.status.busy": "2021-08-04T06:19:50.36811Z",
          "iopub.status.idle": "2021-08-04T06:19:50.368748Z"
        },
        "id": "bKUBDT36IHKO",
        "trusted": true
      },
      "outputs": [
        {
          "data": {
            "text/plain": [
              "array([[0.50607824, 0.5036283 , 0.485618  ]], dtype=float32)"
            ]
          },
          "execution_count": 155,
          "metadata": {},
          "output_type": "execute_result"
        }
      ],
      "source": [
        "pred"
      ]
    },
    {
      "cell_type": "code",
      "execution_count": null,
      "metadata": {},
      "outputs": [],
      "source": []
    }
  ],
  "metadata": {
    "kernel_info": {
      "name": "python3"
    },
    "kernelspec": {
      "display_name": "azureml_py38",
      "language": "python",
      "name": "python3"
    },
    "language_info": {
      "codemirror_mode": {
        "name": "ipython",
        "version": 3
      },
      "file_extension": ".py",
      "mimetype": "text/x-python",
      "name": "python",
      "nbconvert_exporter": "python",
      "pygments_lexer": "ipython3",
      "version": "3.8.5"
    },
    "nteract": {
      "version": "nteract-front-end@1.0.0"
    },
    "vscode": {
      "interpreter": {
        "hash": "6d65a8c07f5b6469e0fc613f182488c0dccce05038bbda39e5ac9075c0454d11"
      }
    }
  },
  "nbformat": 4,
  "nbformat_minor": 4
}
